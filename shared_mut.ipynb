{
 "cells": [
  {
   "cell_type": "markdown",
   "metadata": {},
   "source": [
    "## Calculate the % of shared mutations between GBC and OL"
   ]
  },
  {
   "cell_type": "markdown",
   "metadata": {},
   "source": [
    "### Read in vcf files"
   ]
  },
  {
   "cell_type": "code",
   "execution_count": 1,
   "metadata": {},
   "outputs": [],
   "source": [
    "import pandas as pd\n",
    "import glob\n",
    "import os\n",
    "\n",
    "def read_all_txt_files_in_folder(folder_path):\n",
    "    txt_files = glob.glob(folder_path + \"/*.vcf\")\n",
    "    dfs = {}\n",
    "    for txt_file in txt_files:\n",
    "        file_name = os.path.splitext(os.path.basename(txt_file))[0]\n",
    "        df = pd.read_csv(txt_file, sep='\\t')\n",
    "        dfs[file_name] = df\n",
    "    return dfs\n",
    "\n",
    "\n",
    "folder_path_GBC = '/Users/tingyang/Desktop/LAB/ProgressReport/2023/PCGA/GBC_OL/Shared_mutation/GBC/'\n",
    "folder_path_OL = '/Users/tingyang/Desktop/LAB/ProgressReport/2023/PCGA/GBC_OL/Shared_mutation/OL/'\n",
    "\n",
    "GBC_dict = read_all_txt_files_in_folder(folder_path_GBC)\n",
    "OL_dict = read_all_txt_files_in_folder(folder_path_OL)\n"
   ]
  },
  {
   "cell_type": "code",
   "execution_count": 2,
   "metadata": {},
   "outputs": [
    {
     "name": "stdout",
     "output_type": "stream",
     "text": [
      "['RADS29_final', 'RADS47_final', 'RADS17_final', 'RADS6_final', 'RADS36_final', 'RADS10_final', 'RADS52_final', 'RADS28_final', 'RADS7_final', 'RADS37_final', 'RADS23_final', 'RADS40_final', 'RADS13_final', 'RADS2_final', 'RADS45_final', 'RADS4_final', 'RADS34_final', 'RADS43_final', 'RADS39_final', 'RADS18_final', 'RADS33_final', 'RADS3_final', 'RADS27_final', 'RADS44_final', 'RADS5_final', 'RADS8_final', 'RADS42_final', 'RADS19_final']\n"
     ]
    }
   ],
   "source": [
    "keys_list = list(GBC_dict.keys())\n",
    "print(keys_list)"
   ]
  },
  {
   "cell_type": "markdown",
   "metadata": {},
   "source": [
    "### Plot the Venn diagrams"
   ]
  },
  {
   "cell_type": "code",
   "execution_count": 3,
   "metadata": {},
   "outputs": [],
   "source": [
    "import pandas as pd\n",
    "from matplotlib_venn import venn2\n",
    "import matplotlib.pyplot as plt\n",
    "\n",
    "# Define a function to convert a data frame to a set of tuples (rows)\n",
    "def df_to_set(df):\n",
    "    return set(tuple(x) for x in df.to_records(index=False))\n",
    "\n",
    "# Define a function to count the number of rows that are exactly the same between two data frames\n",
    "def count_exact_matches(df1, df2):\n",
    "    set_df1 = df_to_set(df1)\n",
    "    set_df2 = df_to_set(df2)\n",
    "    return len(set_df1.intersection(set_df2))\n"
   ]
  },
  {
   "cell_type": "code",
   "execution_count": null,
   "metadata": {},
   "outputs": [],
   "source": [
    "# Iterate over the keys and count exact matches and individual data frame rows\n",
    "for key in keys_list:\n",
    "    # Get the data frames for the current key\n",
    "    df_GBC = GBC_dict[key]\n",
    "    df_OL = OL_dict[key]\n",
    "\n",
    "    # Count the number of rows that are exactly the same\n",
    "    counts_same = count_exact_matches(df_GBC, df_OL)\n",
    "\n",
    "    # Count the number of rows in each data frame\n",
    "    counts_GBC = len(df_GBC)\n",
    "    counts_OL = len(df_OL)\n",
    "\n",
    "    # Draw the Venn diagram\n",
    "    set_GBC = df_to_set(df_GBC)\n",
    "    set_OL = df_to_set(df_OL)\n",
    "    venn = venn2([set_GBC, set_OL], set_labels=('GBC', 'OL'))\n",
    "    plt.title(f\"GBC {key} vs. OL {key}\")\n",
    "\n",
    "    # Save the Venn diagram as PNG with a unique filename\n",
    "    filename = f\"{key}_common_mut.png\"\n",
    "    plt.savefig(filename)\n",
    "\n",
    "    plt.show()"
   ]
  },
  {
   "cell_type": "markdown",
   "metadata": {},
   "source": [
    "### Test on single sample"
   ]
  },
  {
   "cell_type": "code",
   "execution_count": null,
   "metadata": {},
   "outputs": [],
   "source": [
    "GBC_dict['RADS36_final'].shape"
   ]
  },
  {
   "cell_type": "code",
   "execution_count": null,
   "metadata": {},
   "outputs": [],
   "source": [
    "OL_dict['RADS36_final'].shape"
   ]
  },
  {
   "cell_type": "code",
   "execution_count": null,
   "metadata": {},
   "outputs": [],
   "source": [
    "set_df1 = set(tuple(x) for x in GBC_dict['RADS36_final'].to_records(index=False))\n",
    "set_df2 = set(tuple(x) for x in OL_dict['RADS36_final'].to_records(index=False))\n",
    "len(set_df1.intersection(set_df2))"
   ]
  },
  {
   "cell_type": "code",
   "execution_count": null,
   "metadata": {},
   "outputs": [],
   "source": [
    "def print_common_rows(df1, df2):\n",
    "    # Convert data frames to sets of tuples (rows)\n",
    "    set_df1 = set(tuple(x) for x in df1.to_records(index=False))\n",
    "    set_df2 = set(tuple(x) for x in df2.to_records(index=False))\n",
    "    \n",
    "    # Find the common rows\n",
    "    common_rows = set_df1.intersection(set_df2)\n",
    "    \n",
    "    # Print the common rows without headers\n",
    "    print(\"Common Rows:\")\n",
    "    for row in common_rows:\n",
    "        print(row)"
   ]
  },
  {
   "cell_type": "code",
   "execution_count": null,
   "metadata": {},
   "outputs": [],
   "source": [
    "print_common_rows(GBC_dict['RADS36_final'], OL_dict['RADS36_final'])"
   ]
  },
  {
   "cell_type": "markdown",
   "metadata": {},
   "source": [
    "## Checking if the common mutations are the driver genes identified by IntOGen \n",
    "### Will need to run IntOGen beforhand and get the driver genes"
   ]
  },
  {
   "cell_type": "code",
   "execution_count": 4,
   "metadata": {},
   "outputs": [],
   "source": [
    "# Define the drivers interval ranges for each condition\n",
    "interval_drivers = {\n",
    "    'chr2': (201266487, 201286594),\n",
    "    'chr4': (186588592, 186709827),\n",
    "    'chr9': (136496071, 136545786),\n",
    "    'chr10': (92052212, 92240350),\n",
    "    'chr4': (152322881, 152382335),\n",
    "    'chr6': (31354483, 31357158),\n",
    "    'chr11': (532636, 534322),\n",
    "    'chr3': (179198826, 179234364),\n",
    "    'chr17': (7673219, 7676251),\n",
    "}"
   ]
  },
  {
   "cell_type": "code",
   "execution_count": 5,
   "metadata": {},
   "outputs": [],
   "source": [
    "set_df1 = set(tuple(x) for x in GBC_dict['RADS36_final'].to_records(index=False))\n",
    "set_df2 = set(tuple(x) for x in OL_dict['RADS36_final'].to_records(index=False))"
   ]
  },
  {
   "cell_type": "code",
   "execution_count": 6,
   "metadata": {},
   "outputs": [],
   "source": [
    "# Function to check if a row satisfies any of the criteria\n",
    "def satisfies_any_criteria(row):\n",
    "    chrom, pos = row[0], row[1]\n",
    "    if chrom in interval_drivers:\n",
    "        start_interval, end_interval = interval_drivers[chrom]\n",
    "        return start_interval <= pos <= end_interval\n",
    "    return False"
   ]
  },
  {
   "cell_type": "code",
   "execution_count": 7,
   "metadata": {},
   "outputs": [],
   "source": [
    "# Define a function to get the rows that are exactly the same between two data frames\n",
    "def get_exact_matches(df1, df2):\n",
    "    set_df1 = df_to_set(df1)\n",
    "    set_df2 = df_to_set(df2)\n",
    "    return set_df1.intersection(set_df2)"
   ]
  },
  {
   "cell_type": "code",
   "execution_count": 8,
   "metadata": {},
   "outputs": [
    {
     "name": "stdout",
     "output_type": "stream",
     "text": [
      "Common mutations that are also driver genes: RADS10_final ('chr2', 201285307, '.', 'C', 'T', '.', 'PASS', '.', '.')\n",
      "Common mutations that are also driver genes: RADS37_final ('chr2', 201276864, '.', 'G', 'A', '.', 'PASS', '.', '.')\n",
      "Common mutations that are also driver genes: RADS37_final ('chr3', 179234297, '.', 'A', 'G', '.', 'PASS', '.', '.')\n",
      "Common mutations that are also driver genes: RADS23_final ('chr2', 201276864, '.', 'G', 'A', '.', 'PASS', '.', '.')\n",
      "Common mutations that are also driver genes: RADS23_final ('chr11', 533873, '.', 'C', 'G', '.', 'PASS', '.', '.')\n",
      "Common mutations that are also driver genes: RADS23_final ('chr17', 7673779, '.', 'C', 'G', '.', 'PASS', '.', '.')\n",
      "Common mutations that are also driver genes: RADS13_final ('chr2', 201285237, '.', 'CTG', 'C', '.', 'PASS', '.', '.')\n",
      "Common mutations that are also driver genes: RADS4_final ('chr2', 201272722, '.', 'C', 'T', '.', 'PASS', '.', '.')\n",
      "Common mutations that are also driver genes: RADS3_final ('chr2', 201286482, '.', 'T', 'A', '.', 'PASS', '.', '.')\n",
      "Common mutations that are also driver genes: RADS27_final ('chr17', 7673803, '.', 'G', 'A', '.', 'PASS', '.', '.')\n",
      "Common mutations that are also driver genes: RADS27_final ('chr2', 201272659, '.', 'G', 'T', '.', 'PASS', '.', '.')\n",
      "Common mutations that are also driver genes: RADS44_final ('chr3', 179218303, '.', 'G', 'A', '.', 'PASS', '.', '.')\n",
      "Common mutations that are also driver genes: RADS44_final ('chr9', 136517929, '.', 'G', 'A', '.', 'PASS', '.', '.')\n",
      "Common mutations that are also driver genes: RADS44_final ('chr2', 201285028, '.', 'C', 'T', '.', 'PASS', '.', '.')\n",
      "Common mutations that are also driver genes: RADS5_final ('chr2', 201284987, '.', 'G', 'A', '.', 'PASS', '.', '.')\n"
     ]
    }
   ],
   "source": [
    "# Iterate over the keys and count exact matches and individual data frame rows\n",
    "for key in keys_list:\n",
    "    # Get the data frames for the current key\n",
    "    df_GBC = GBC_dict[key]\n",
    "    df_OL = OL_dict[key]\n",
    "    common_mut = get_exact_matches(df_GBC, df_OL)\n",
    "    for row in common_mut:\n",
    "        if satisfies_any_criteria(row):\n",
    "            print(\"Common mutations that are also driver genes:\",key, row)\n",
    "    "
   ]
  }
 ],
 "metadata": {
  "kernelspec": {
   "display_name": "base",
   "language": "python",
   "name": "python3"
  },
  "language_info": {
   "codemirror_mode": {
    "name": "ipython",
    "version": 3
   },
   "file_extension": ".py",
   "mimetype": "text/x-python",
   "name": "python",
   "nbconvert_exporter": "python",
   "pygments_lexer": "ipython3",
   "version": "3.9.13"
  },
  "orig_nbformat": 4
 },
 "nbformat": 4,
 "nbformat_minor": 2
}
